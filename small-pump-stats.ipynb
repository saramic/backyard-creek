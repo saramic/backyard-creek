{
 "cells": [
  {
   "cell_type": "markdown",
   "metadata": {},
   "source": [
    "# small pump stats\n",
    "\n",
    "For small pump, measure the number of seconds to fill 12L container through different hose lengths at different head hights."
   ]
  },
  {
   "cell_type": "code",
   "execution_count": 29,
   "metadata": {},
   "outputs": [
    {
     "data": {
      "text/html": [
       "<div>\n",
       "<style scoped>\n",
       "    .dataframe tbody tr th:only-of-type {\n",
       "        vertical-align: middle;\n",
       "    }\n",
       "\n",
       "    .dataframe tbody tr th {\n",
       "        vertical-align: top;\n",
       "    }\n",
       "\n",
       "    .dataframe thead th {\n",
       "        text-align: right;\n",
       "    }\n",
       "</style>\n",
       "<table border=\"1\" class=\"dataframe\">\n",
       "  <thead>\n",
       "    <tr style=\"text-align: right;\">\n",
       "      <th></th>\n",
       "      <th>0</th>\n",
       "      <th>815</th>\n",
       "      <th>1280</th>\n",
       "    </tr>\n",
       "    <tr>\n",
       "      <th>length</th>\n",
       "      <th></th>\n",
       "      <th></th>\n",
       "      <th></th>\n",
       "    </tr>\n",
       "  </thead>\n",
       "  <tbody>\n",
       "    <tr>\n",
       "      <th>220</th>\n",
       "      <td>84.52</td>\n",
       "      <td>100.38</td>\n",
       "      <td>141.84</td>\n",
       "    </tr>\n",
       "    <tr>\n",
       "      <th>400</th>\n",
       "      <td>107.52</td>\n",
       "      <td>148.24</td>\n",
       "      <td>213.50</td>\n",
       "    </tr>\n",
       "    <tr>\n",
       "      <th>800</th>\n",
       "      <td>146.49</td>\n",
       "      <td>198.64</td>\n",
       "      <td>287.97</td>\n",
       "    </tr>\n",
       "  </tbody>\n",
       "</table>\n",
       "</div>"
      ],
      "text/plain": [
       "             0        815      1280\n",
       "length                             \n",
       "220      84.52     100.38    141.84\n",
       "400     107.52     148.24    213.50\n",
       "800     146.49     198.64    287.97"
      ]
     },
     "execution_count": 29,
     "metadata": {},
     "output_type": "execute_result"
    }
   ],
   "source": [
    "import pandas as pd\n",
    "import matplotlib.pyplot as plt\n",
    "import seaborn as sns\n",
    "sns.set(style=\"darkgrid\")\n",
    "from io import StringIO    \n",
    "\n",
    "f = StringIO('''\\\n",
    "length, 0,      815,    1280\n",
    "220,    84.52,  100.38, 141.84 \n",
    "400,    107.52, 148.24, 213.50 \n",
    "800,    146.49, 198.64, 287.97\n",
    "''')\n",
    "\n",
    "df = pd.read_csv(f)\n",
    "\n",
    "df = df.set_index(\"length\")\n",
    "\n",
    "# ax = sns.lineplot(height=8.27, aspect=11.7/8.27, data=df)\n",
    "# ax.set(xlabel='head', ylabel='seconds')\n",
    "# plt.show()\n",
    "\n",
    "df"
   ]
  }
 ],
 "metadata": {
  "kernelspec": {
   "display_name": "Python 3",
   "language": "python",
   "name": "python3"
  },
  "language_info": {
   "codemirror_mode": {
    "name": "ipython",
    "version": 3
   },
   "file_extension": ".py",
   "mimetype": "text/x-python",
   "name": "python",
   "nbconvert_exporter": "python",
   "pygments_lexer": "ipython3",
   "version": "3.7.6"
  }
 },
 "nbformat": 4,
 "nbformat_minor": 2
}
